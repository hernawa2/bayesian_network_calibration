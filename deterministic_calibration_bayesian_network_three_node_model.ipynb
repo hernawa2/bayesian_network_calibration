{
 "cells": [
  {
   "cell_type": "code",
   "execution_count": 217,
   "id": "48d31424",
   "metadata": {},
   "outputs": [],
   "source": [
    "from scipy.optimize import minimize\n",
    "experiments='case_4'\n",
    "if experiments=='case_1':\n",
    "    #case 1 (only dobs)\n",
    "    def obj_fun_trial(params,dobs):\n",
    "        t1,t2,t3,c1t1,c2t1,c3t1,c1t2,c2t2,c3t2,c1t3,c2t3,c3t3,u1,u2,u3=params\n",
    "        fun=((t1*c1t1+t2*c1t2+t3*c1t3)*u1)+((t1*c2t1+t2*c2t2+t3*c2t3)*u2)+((t1*c3t1+t2*c3t2+t3*c3t3)*u3)\n",
    "        return ((dobs-fun)**2).sum()\n",
    "elif experiments=='case_2':\n",
    "    #case 2 (only dobs & threat)\n",
    "    def obj_fun_trial(params,dobs,t1,t2,t3):\n",
    "        c1t1,c2t1,c3t1,c1t2,c2t2,c3t2,c1t3,c2t3,c3t3,u1,u2,u3=params\n",
    "        fun=((t1*c1t1+t2*c1t2+t3*c1t3)*u1)+((t1*c2t1+t2*c2t2+t3*c2t3)*u2)+((t1*c3t1+t2*c3t2+t3*c3t3)*u3)\n",
    "        return ((dobs-fun)**2).sum()\n",
    "elif experiments=='case_3':\n",
    "    #case 3 (only dobs & system)\n",
    "    def obj_fun_trial(params,dobs,c1t1,c2t1,c3t1,c1t2,c2t2,c3t2,c1t3,c2t3,c3t3):\n",
    "        t1,t2,t3,u1,u2,u3=params\n",
    "        fun=((t1*c1t1+t2*c1t2+t3*c1t3)*u1)+((t1*c2t1+t2*c2t2+t3*c2t3)*u2)+((t1*c3t1+t2*c3t2+t3*c3t3)*u3)\n",
    "        return ((dobs-fun)**2).sum()\n",
    "else:\n",
    "    #case 4 (dobs, threat & system)\n",
    "    def obj_fun_trial(params,dobs,t1,t2,t3,c1t1,c2t1,c3t1,c1t2,c2t2,c3t2,c1t3,c2t3,c3t3):\n",
    "        u1,u2,u3=params\n",
    "        fun=((t1*c1t1+t2*c1t2+t3*c1t3)*u1)+((t1*c2t1+t2*c2t2+t3*c2t3)*u2)+((t1*c3t1+t2*c3t2+t3*c3t3)*u3)\n",
    "        return ((dobs-fun)**2).sum()"
   ]
  },
  {
   "cell_type": "code",
   "execution_count": 207,
   "id": "cd3c6937",
   "metadata": {
    "collapsed": true
   },
   "outputs": [
    {
     "data": {
      "text/plain": [
       "     fun: 538.2133333347367\n",
       "     jac: array([6.95037842e-03, 6.02722168e-03, 5.72204590e-03, 7.17163086e-04,\n",
       "       1.15966797e-03, 1.70135498e-03, 2.22778320e-03, 3.66210938e-03,\n",
       "       5.37109375e-03, 7.62939453e-04, 1.25122070e-03, 1.83105469e-03,\n",
       "       6.10351562e-05, 7.62939453e-05, 4.57763672e-05])\n",
       " message: 'Optimization terminated successfully'\n",
       "    nfev: 151\n",
       "     nit: 9\n",
       "    njev: 9\n",
       "  status: 0\n",
       " success: True\n",
       "       x: array([ 0.19202866,  0.60123977,  0.20673156,  0.12461395,  0.48585912,\n",
       "        0.38952693,  0.35197712,  0.38608782,  0.26193505,  0.35833879,\n",
       "        0.48277706,  0.15888414, 20.1       , 32.91744919, 47.94613358])"
      ]
     },
     "execution_count": 207,
     "metadata": {},
     "output_type": "execute_result"
    }
   ],
   "source": [
    "#case_1\n",
    "initial_guess=[0.2,0.6,0.2,0.1,0.5,0.4,0.3,0.4,0.3,0.4,0.5,0.1,19,33,48]\n",
    "bnds=((0,1),(0,1),(0,1),(0,1),(0,1),(0,1),(0,1),(0,1),(0,1),(0,1),(0,1),(0,1),(20,None),(28,None),(41,None))\n",
    "observation=np.array([49,37.7,34.8,32.5,\n",
    "                      23.5,20.1])\n",
    "dobs_min,dobs_max=min(observation),max(observation)\n",
    "def con_threat(x):\n",
    "    t1,t2,t3,c1t1,c2t1,c3t1,c1t2,c2t2,c3t2,c1t3,c2t3,c3t3,u1,u2,u3=x\n",
    "    return x[0]+x[1]+x[2]-1\n",
    "def con_system_1(x):\n",
    "    t1,t2,t3,c1t1,c2t1,c3t1,c1t2,c2t2,c3t2,c1t3,c2t3,c3t3,u1,u2,u3=x\n",
    "    return x[3]+x[4]+x[5]-1\n",
    "def con_system_2(x):\n",
    "    t1,t2,t3,c1t1,c2t1,c3t1,c1t2,c2t2,c3t2,c1t3,c2t3,c3t3,u1,u2,u3=x\n",
    "    return x[6]+x[7]+x[8]-1\n",
    "def con_system_3(x):\n",
    "    t1,t2,t3,c1t1,c2t1,c3t1,c1t2,c2t2,c3t2,c1t3,c2t3,c3t3,u1,u2,u3=x\n",
    "    return x[9]+x[10]+x[11]-1\n",
    "def con_utility_1(x):\n",
    "    t1,t2,t3,c1t1,c2t1,c3t1,c1t2,c2t2,c3t2,c1t3,c2t3,c3t3,u1,u2,u3=x\n",
    "    return u1-dobs_min,u2-u1, u3-u2, dobs_max-u3\n",
    "cons=({'type':'eq','fun':con_threat},\n",
    "     {'type':'eq','fun':con_system_1},\n",
    "     {'type':'eq','fun':con_system_2},\n",
    "     {'type':'eq','fun':con_system_3},{'type':'ineq','fun':con_utility_1})\n",
    "result=minimize(obj_fun_trial,x0=initial_guess,bounds=bnds,constraints=cons, method='SLSQP',args=(observation))\n",
    "result"
   ]
  },
  {
   "cell_type": "code",
   "execution_count": 213,
   "id": "b7b1ade4",
   "metadata": {
    "collapsed": true
   },
   "outputs": [
    {
     "data": {
      "text/plain": [
       "     fun: 538.213333355634\n",
       "     jac: array([0.00440979, 0.00721741, 0.01052856, 0.00588226, 0.0096283 ,\n",
       "       0.01405334, 0.00440979, 0.00721741, 0.01052856, 0.00022125,\n",
       "       0.00032043, 0.00019073])\n",
       " message: 'Optimization terminated successfully'\n",
       "    nfev: 67\n",
       "     nit: 5\n",
       "    njev: 5\n",
       "  status: 0\n",
       " success: True\n",
       "       x: array([ 0.13951342,  0.47637855,  0.38410803,  0.32892847,  0.38118298,\n",
       "        0.28988854,  0.42524616,  0.47637855,  0.09837529, 20.10048688,\n",
       "       32.84066791, 47.90589721])"
      ]
     },
     "execution_count": 213,
     "metadata": {},
     "output_type": "execute_result"
    }
   ],
   "source": [
    "#case_2\n",
    "initial_guess=[0.1,0.5,0.4,0.3,0.4,0.3,0.4,0.5,0.1,19,33,48]\n",
    "bnds=((0,1),(0,1),(0,1),(0,1),(0,1),(0,1),(0,1),(0,1),(0,1),(20,None),(28,None),(41,None))\n",
    "observation=np.array([49,37.7,34.8,32.5,\n",
    "                      23.5,20.1])\n",
    "dobs_min,dobs_max=min(observation),max(observation)\n",
    "\n",
    "def con_system_1(x):\n",
    "    c1t1,c2t1,c3t1,c1t2,c2t2,c3t2,c1t3,c2t3,c3t3,u1,u2,u3=x\n",
    "    return x[0]+x[1]+x[2]-1\n",
    "def con_system_2(x):\n",
    "    c1t1,c2t1,c3t1,c1t2,c2t2,c3t2,c1t3,c2t3,c3t3,u1,u2,u3=x\n",
    "    return x[3]+x[4]+x[5]-1\n",
    "def con_system_3(x):\n",
    "    c1t1,c2t1,c3t1,c1t2,c2t2,c3t2,c1t3,c2t3,c3t3,u1,u2,u3=x\n",
    "    return x[6]+x[7]+x[8]-1\n",
    "def con_utility_1(x):\n",
    "    c1t1,c2t1,c3t1,c1t2,c2t2,c3t2,c1t3,c2t3,c3t3,u1,u2,u3=x\n",
    "    return u1-dobs_min,u2-u1, u3-u2, dobs_max-u3\n",
    "cons=({'type':'eq','fun':con_system_1},\n",
    "     {'type':'eq','fun':con_system_2},\n",
    "     {'type':'eq','fun':con_system_3},{'type':'ineq','fun':con_utility_1})\n",
    "t1,t2,t3=0.3,0.4,0.3\n",
    "result=minimize(obj_fun_trial,x0=initial_guess,bounds=bnds,constraints=cons, method='SLSQP',args=(observation,t1,t2,t3))\n",
    "result"
   ]
  },
  {
   "cell_type": "code",
   "execution_count": 216,
   "id": "6a491f34",
   "metadata": {
    "scrolled": true
   },
   "outputs": [
    {
     "data": {
      "text/plain": [
       "     fun: 538.2133337141063\n",
       "     jac: array([0.11331177, 0.10112762, 0.08817291, 0.00088501, 0.0013504 ,\n",
       "       0.00079346])\n",
       " message: 'Optimization terminated successfully'\n",
       "    nfev: 29\n",
       "     nit: 4\n",
       "    njev: 4\n",
       "  status: 0\n",
       " success: True\n",
       "       x: array([ 0.17743016,  0.54230061,  0.28026924, 20.1       , 32.64806182,\n",
       "       47.76655013])"
      ]
     },
     "execution_count": 216,
     "metadata": {},
     "output_type": "execute_result"
    }
   ],
   "source": [
    "#case_3\n",
    "initial_guess=[0.2,0.6,0.2,19,33,48]\n",
    "bnds=((0,1),(0,1),(0,1),(20,None),(28,None),(41,None))\n",
    "observation=np.array([49,37.7,34.8,32.5,\n",
    "                      23.5,20.1])\n",
    "dobs_min,dobs_max=min(observation),max(observation)\n",
    "def con_threat(x):\n",
    "    t1,t2,t3,u1,u2,u3=x\n",
    "    return x[0]+x[1]+x[2]-1\n",
    "def con_utility(x):\n",
    "    t1,t2,t3,u1,u2,u3=x\n",
    "    return u1-dobs_min,u2-u1, u3-u2, dobs_max-u3\n",
    "cons=({'type':'eq','fun':con_threat},{'type':'ineq','fun':con_utility})\n",
    "c1t1,c2t1,c3t1,c1t2,c2t2,c3t2,c1t3,c2t3,c3t3=0.1,0.5,0.4,0.3,0.4,0.3,0.4,0.5,0.1\n",
    "result=minimize(obj_fun_trial,x0=initial_guess,bounds=bnds,constraints=cons, method='SLSQP',args=(observation,c1t1,c2t1,c3t1,\n",
    "                                                                                                  c1t2,c2t2,c3t2,c1t3,\n",
    "                                                                                                  c2t3,c3t3))\n",
    "result"
   ]
  },
  {
   "cell_type": "code",
   "execution_count": 218,
   "id": "01afa84f",
   "metadata": {},
   "outputs": [
    {
     "data": {
      "text/plain": [
       "     fun: 538.2133337949313\n",
       "     jac: array([-0.00090027, -0.00154114, -0.00090027])\n",
       " message: 'Optimization terminated successfully'\n",
       "    nfev: 13\n",
       "     nit: 3\n",
       "    njev: 3\n",
       "  status: 0\n",
       " success: True\n",
       "       x: array([20.1       , 31.97499442, 47.39836493])"
      ]
     },
     "execution_count": 218,
     "metadata": {},
     "output_type": "execute_result"
    }
   ],
   "source": [
    "#case_4\n",
    "initial_guess=[19,33,48]\n",
    "bnds=((20,None),(28,None),(41,None))\n",
    "observation=np.array([49,37.7,34.8,32.5,\n",
    "                      23.5,20.1])\n",
    "dobs_min,dobs_max=min(observation),max(observation)\n",
    "def con_utility(x):\n",
    "    u1,u2,u3=x\n",
    "    return u1-dobs_min,u2-u1, u3-u2, dobs_max-u3\n",
    "cons=({'type':'ineq','fun':con_utility})\n",
    "t1,t2,t3,c1t1,c2t1,c3t1,c1t2,c2t2,c3t2,c1t3,c2t3,c3t3=0.3,0.4,0.3,0.1,0.5,0.4,0.3,0.4,0.3,0.4,0.5,0.1\n",
    "result=minimize(obj_fun_trial,x0=initial_guess,bounds=bnds,constraints=cons, method='SLSQP',args=(observation,t1,t2,t3,\n",
    "                                                                                                  c1t1,c2t1,\n",
    "                                                                                                  c3t1,c1t2,c2t2,c3t2,\n",
    "                                                                                                  c1t3,c2t3,c3t3))\n",
    "result"
   ]
  },
  {
   "cell_type": "code",
   "execution_count": null,
   "id": "fe881df6",
   "metadata": {},
   "outputs": [],
   "source": []
  }
 ],
 "metadata": {
  "kernelspec": {
   "display_name": "Python 3 (ipykernel)",
   "language": "python",
   "name": "python3"
  },
  "language_info": {
   "codemirror_mode": {
    "name": "ipython",
    "version": 3
   },
   "file_extension": ".py",
   "mimetype": "text/x-python",
   "name": "python",
   "nbconvert_exporter": "python",
   "pygments_lexer": "ipython3",
   "version": "3.9.7"
  }
 },
 "nbformat": 4,
 "nbformat_minor": 5
}
